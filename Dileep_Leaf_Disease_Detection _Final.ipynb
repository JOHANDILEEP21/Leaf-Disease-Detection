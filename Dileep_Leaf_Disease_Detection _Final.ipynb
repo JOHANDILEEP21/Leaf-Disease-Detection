{
 "cells": [
  {
   "cell_type": "code",
   "execution_count": 228,
   "id": "67f4e85c",
   "metadata": {},
   "outputs": [],
   "source": [
    "### Importing necessary libraries\n",
    "import pandas as pd\n",
    "import numpy as np\n",
    "import os\n",
    "import pickle\n",
    "\n",
    "import matplotlib.pyplot as plt\n",
    "import seaborn as sns\n",
    "\n",
    "from keras.layers import Conv2D, MaxPooling2D, Flatten, Dense, BatchNormalization, Dropout\n",
    "from keras.models import Sequential\n",
    "from tensorflow.keras.preprocessing.image import ImageDataGenerator\n",
    "from keras.preprocessing import image\n",
    "from tensorflow.keras.optimizers import Adam\n",
    "from tensorflow.keras.callbacks import EarlyStopping, ModelCheckpoint\n",
    "from tensorflow.keras.applications import VGG16\n",
    "\n",
    "from sklearn.model_selection import train_test_split\n",
    "from sklearn.metrics import classification_report, confusion_matrix\n",
    "\n",
    "import warnings\n",
    "warnings.filterwarnings('ignore')"
   ]
  },
  {
   "cell_type": "code",
   "execution_count": 128,
   "id": "679369ab",
   "metadata": {},
   "outputs": [
    {
     "name": "stdout",
     "output_type": "stream",
     "text": [
      "train_df lenght:  63265   test_df length:  7030   test_df length:  7030\n"
     ]
    }
   ],
   "source": [
    "train_dir=r'C:\\Users\\johan\\OneDrive\\Desktop\\DS Python\\Tasks\\NeubAltics\\archive (3)\\dataset\\train'\n",
    "test_dir=r'C:\\Users\\johan\\OneDrive\\Desktop\\DS Python\\Tasks\\NeubAltics\\archive (3)\\dataset\\test'\n",
    "\n",
    "for d in [train_dir, test_dir]:\n",
    "    filepaths = []\n",
    "    labels=[] \n",
    "    classlist=sorted(os.listdir(d))\n",
    "    \n",
    "    for klass in classlist:\n",
    "        label=klass.split('__')[1]\n",
    "        classpath=os.path.join(d, klass)\n",
    "        flist=sorted(os.listdir(classpath))\n",
    "        \n",
    "        for f in flist:\n",
    "            fpath=os.path.join(classpath,f)\n",
    "            filepaths.append(fpath)            \n",
    "            labels.append(label)\n",
    "    \n",
    "    Fseries=pd.Series(filepaths, name='filepaths')\n",
    "    Lseries=pd.Series(labels, name='labels')        \n",
    "    \n",
    "    if d == train_dir:\n",
    "        df=pd.concat([Fseries, Lseries], axis=1)\n",
    "    else:\n",
    "        test_df=pd.concat([Fseries, Lseries], axis=1)\n",
    "\n",
    "train_df, test_df=train_test_split(df, train_size=.9, shuffle=True, random_state=123, stratify=df['labels'])\n",
    "\n",
    "print('train_df lenght: ', len(train_df), '  test_df length: ', len(test_df), '  test_df length: ', len(test_df))"
   ]
  },
  {
   "cell_type": "code",
   "execution_count": 129,
   "id": "19881b48",
   "metadata": {
    "scrolled": true
   },
   "outputs": [
    {
     "name": "stdout",
     "output_type": "stream",
     "text": [
      "The number of classes in the dataset is:  21\n",
      "            CLASS               IMAGE COUNT \n",
      "         _Apple_scab               1814     \n",
      "       _Bacterial_spot             4908     \n",
      "          _Black_rot               3487     \n",
      "      _Cedar_apple_rust            1584     \n",
      "_Cercospora_leaf_spot Gray_leaf_spot     1478     \n",
      "        _Common_rust_              1716     \n",
      "        _Early_blight              3473     \n",
      "    _Esca_(Black_Measles)          1728     \n",
      "_Haunglongbing_(Citrus_greening)     1809     \n",
      "         _Late_blight              3411     \n",
      "          _Leaf_Mold               1694     \n",
      "_Leaf_blight_(Isariopsis_Leaf_Spot)     1550     \n",
      "         _Leaf_scorch              1597     \n",
      "    _Northern_Leaf_Blight          1717     \n",
      "       _Powdery_mildew             3077     \n",
      "     _Septoria_leaf_spot           1571     \n",
      "_Spider_mites Two-spotted_spider_mite     1567     \n",
      "         _Target_Spot              1644     \n",
      "_Tomato_Yellow_Leaf_Curl_Virus     1765     \n",
      "     _Tomato_mosaic_virus          1611     \n",
      "           _healthy                20064    \n"
     ]
    }
   ],
   "source": [
    "# get the number of classes and the images count for each class in train_df\n",
    "classes=sorted(list(train_df['labels'].unique()))\n",
    "class_count = len(classes)\n",
    "print('The number of classes in the dataset is: ', class_count)\n",
    "groups=train_df.groupby('labels')\n",
    "print('{0:^30s} {1:^13s}'.format('CLASS', 'IMAGE COUNT'))\n",
    "countlist=[]\n",
    "classlist=[]\n",
    "for label in sorted(list(train_df['labels'].unique())):\n",
    "    group=groups.get_group(label)\n",
    "    countlist.append(len(group))\n",
    "    classlist.append(label)\n",
    "    print('{0:^30s} {1:^13s}'.format(label, str(len(group))))"
   ]
  },
  {
   "cell_type": "markdown",
   "id": "19d5250c",
   "metadata": {},
   "source": [
    "### Create the train_gen, test_gen"
   ]
  },
  {
   "cell_type": "code",
   "execution_count": 4,
   "id": "6413e26b",
   "metadata": {},
   "outputs": [
    {
     "name": "stdout",
     "output_type": "stream",
     "text": [
      "_healthy  has the most images=  20064   _Cercospora_leaf_spot Gray_leaf_spot  has the least images=  1478\n"
     ]
    }
   ],
   "source": [
    "# get the classes with the minimum and maximum number of train images\n",
    "max_value = np.max(countlist)\n",
    "max_index = countlist.index(max_value)\n",
    "max_class = classlist[max_index]\n",
    "\n",
    "min_value = np.min(countlist)\n",
    "min_index = countlist.index(min_value)\n",
    "min_class = classlist[min_index]\n",
    "\n",
    "print(max_class, ' has the most images= ',max_value, ' ', min_class, ' has the least images= ', min_value)"
   ]
  },
  {
   "cell_type": "code",
   "execution_count": 5,
   "id": "acce8245",
   "metadata": {},
   "outputs": [
    {
     "name": "stdout",
     "output_type": "stream",
     "text": [
      "average height=  256  average width=  256 aspect ratio=  1.0\n"
     ]
    }
   ],
   "source": [
    "# lets get the average height and width of a sample of the train images\n",
    "ht=0\n",
    "wt=0\n",
    "\n",
    "# select 100 random samples of train_df\n",
    "train_df_sample = train_df.sample(n= 100, random_state= 123, axis= 0)\n",
    "\n",
    "for i in range(len(train_df_sample)):\n",
    "    \n",
    "    fpath = train_df_sample['filepaths'].iloc[i]\n",
    "    img = plt.imread(fpath)\n",
    "    shape = img.shape\n",
    "    \n",
    "    ht += shape[0]\n",
    "    wt += shape[1]\n",
    "\n",
    "print('average height= ', ht//100, ' average width= ', wt//100, 'aspect ratio= ', ht/wt)"
   ]
  },
  {
   "cell_type": "code",
   "execution_count": 6,
   "id": "7b4aa7f1",
   "metadata": {},
   "outputs": [
    {
     "name": "stdout",
     "output_type": "stream",
     "text": [
      "Found 70295 images belonging to 38 classes.\n",
      "Found 17572 images belonging to 38 classes.\n"
     ]
    }
   ],
   "source": [
    "train_gen = ImageDataGenerator(rescale=None, shear_range=0.2, zoom_range=0.2, horizontal_flip=True)\n",
    "\n",
    "test_gen = ImageDataGenerator(rescale=None, shear_range=0.2, zoom_range=0.2, horizontal_flip=True)\n",
    "\n",
    "training_set = train_gen.flow_from_directory(train_dir, target_size=(128,128), batch_size=32, class_mode='categorical')\n",
    "\n",
    "test_set=test_gen.flow_from_directory(test_dir, target_size=(128,128), batch_size=32, class_mode='categorical')"
   ]
  },
  {
   "cell_type": "code",
   "execution_count": 156,
   "id": "68a9a934",
   "metadata": {},
   "outputs": [],
   "source": [
    "def show_image_samples(gen):\n",
    "    t_dict = gen.class_indices\n",
    "    classes = list(t_dict.keys())    \n",
    "    images, labels = next(gen) # get a sample batch from the generator \n",
    "    \n",
    "    plt.figure(figsize=(20, 20))\n",
    "    \n",
    "    length=len(labels)\n",
    "    \n",
    "    if length<25:   #show maximum of 25 images\n",
    "        r=length\n",
    "    else:\n",
    "        r=25\n",
    "    \n",
    "    for i in range(r):        \n",
    "        plt.subplot(5, 5, i + 1)\n",
    "        image=images[i] /255       \n",
    "        plt.imshow(image)\n",
    "        \n",
    "        index=np.argmax(labels[i])\n",
    "        class_name=classes[index]\n",
    "        \n",
    "        plt.title(class_name, color='blue', fontsize=12)\n",
    "        plt.axis('off')\n",
    "        \n",
    "    plt.show()"
   ]
  },
  {
   "cell_type": "code",
   "execution_count": 2,
   "id": "3b48647c",
   "metadata": {
    "scrolled": true
   },
   "outputs": [],
   "source": [
    "# print(\"Images for Training......................\")\n",
    "# show_image_samples(training_set )"
   ]
  },
  {
   "cell_type": "code",
   "execution_count": 1,
   "id": "342f66ec",
   "metadata": {
    "scrolled": true
   },
   "outputs": [],
   "source": [
    "# print(\"Images for Testing.......................\")\n",
    "# show_image_samples(test_set)"
   ]
  },
  {
   "cell_type": "markdown",
   "id": "a8cb120a",
   "metadata": {},
   "source": [
    "### Convolutional Neural Network\n",
    "\n",
    "    Basic CNN layers"
   ]
  },
  {
   "cell_type": "code",
   "execution_count": 146,
   "id": "b4d111b1",
   "metadata": {
    "scrolled": true
   },
   "outputs": [],
   "source": [
    "model = Sequential()\n",
    "model.add(Conv2D(32, kernel_size=(3,3), activation='relu', input_shape=(128,128,3)))\n",
    "model.add(MaxPooling2D(pool_size=(2,2,)))\n",
    "model.add(BatchNormalization())\n",
    "\n",
    "model.add(Conv2D(64, kernel_size=(3,3), activation='relu'))\n",
    "model.add(MaxPooling2D(pool_size=(2,2,)))\n",
    "model.add(BatchNormalization())\n",
    "\n",
    "model.add(Conv2D(64, kernel_size=(3,3), activation='relu'))\n",
    "model.add(MaxPooling2D(pool_size=(2,2,)))\n",
    "model.add(BatchNormalization())\n",
    "\n",
    "model.add(Conv2D(96, kernel_size=(3,3), activation='relu'))\n",
    "model.add(MaxPooling2D(pool_size=(2,2,)))\n",
    "model.add(BatchNormalization())\n",
    "\n",
    "model.add(Conv2D(32, kernel_size=(3,3), activation='relu'))\n",
    "model.add(MaxPooling2D(pool_size=(2,2,)))\n",
    "model.add(BatchNormalization())\n",
    "\n",
    "model.add(Dropout(0.2))\n",
    "model.add(Flatten())\n",
    "model.add(Dense(128, activation='relu'))\n",
    "\n",
    "model.add(Dropout(0.3))\n",
    "model.add(Dense(38, activation='softmax'))"
   ]
  },
  {
   "cell_type": "code",
   "execution_count": 147,
   "id": "d8cfddee",
   "metadata": {},
   "outputs": [],
   "source": [
    "model.compile(optimizer='adam', loss='categorical_crossentropy', metrics=['accuracy'])"
   ]
  },
  {
   "cell_type": "markdown",
   "id": "d4b2e6e6",
   "metadata": {},
   "source": [
    "### Model training"
   ]
  },
  {
   "cell_type": "code",
   "execution_count": 148,
   "id": "069f295c",
   "metadata": {
    "scrolled": true
   },
   "outputs": [
    {
     "name": "stdout",
     "output_type": "stream",
     "text": [
      "Model: \"sequential_2\"\n",
      "_________________________________________________________________\n",
      " Layer (type)                Output Shape              Param #   \n",
      "=================================================================\n",
      " conv2d_5 (Conv2D)           (None, 126, 126, 32)      896       \n",
      "                                                                 \n",
      " max_pooling2d_5 (MaxPoolin  (None, 63, 63, 32)        0         \n",
      " g2D)                                                            \n",
      "                                                                 \n",
      " batch_normalization_5 (Bat  (None, 63, 63, 32)        128       \n",
      " chNormalization)                                                \n",
      "                                                                 \n",
      " conv2d_6 (Conv2D)           (None, 61, 61, 64)        18496     \n",
      "                                                                 \n",
      " max_pooling2d_6 (MaxPoolin  (None, 30, 30, 64)        0         \n",
      " g2D)                                                            \n",
      "                                                                 \n",
      " batch_normalization_6 (Bat  (None, 30, 30, 64)        256       \n",
      " chNormalization)                                                \n",
      "                                                                 \n",
      " conv2d_7 (Conv2D)           (None, 28, 28, 64)        36928     \n",
      "                                                                 \n",
      " max_pooling2d_7 (MaxPoolin  (None, 14, 14, 64)        0         \n",
      " g2D)                                                            \n",
      "                                                                 \n",
      " batch_normalization_7 (Bat  (None, 14, 14, 64)        256       \n",
      " chNormalization)                                                \n",
      "                                                                 \n",
      " conv2d_8 (Conv2D)           (None, 12, 12, 96)        55392     \n",
      "                                                                 \n",
      " max_pooling2d_8 (MaxPoolin  (None, 6, 6, 96)          0         \n",
      " g2D)                                                            \n",
      "                                                                 \n",
      " batch_normalization_8 (Bat  (None, 6, 6, 96)          384       \n",
      " chNormalization)                                                \n",
      "                                                                 \n",
      " conv2d_9 (Conv2D)           (None, 4, 4, 32)          27680     \n",
      "                                                                 \n",
      " max_pooling2d_9 (MaxPoolin  (None, 2, 2, 32)          0         \n",
      " g2D)                                                            \n",
      "                                                                 \n",
      " batch_normalization_9 (Bat  (None, 2, 2, 32)          128       \n",
      " chNormalization)                                                \n",
      "                                                                 \n",
      " dropout_2 (Dropout)         (None, 2, 2, 32)          0         \n",
      "                                                                 \n",
      " flatten_1 (Flatten)         (None, 128)               0         \n",
      "                                                                 \n",
      " dense_2 (Dense)             (None, 128)               16512     \n",
      "                                                                 \n",
      " dropout_3 (Dropout)         (None, 128)               0         \n",
      "                                                                 \n",
      " dense_3 (Dense)             (None, 38)                4902      \n",
      "                                                                 \n",
      "=================================================================\n",
      "Total params: 161958 (632.65 KB)\n",
      "Trainable params: 161382 (630.40 KB)\n",
      "Non-trainable params: 576 (2.25 KB)\n",
      "_________________________________________________________________\n"
     ]
    }
   ],
   "source": [
    "model.summary()"
   ]
  },
  {
   "cell_type": "code",
   "execution_count": 20,
   "id": "51b1a33d",
   "metadata": {
    "scrolled": true
   },
   "outputs": [
    {
     "name": "stdout",
     "output_type": "stream",
     "text": [
      "Epoch 1/10\n",
      "375/375 [==============================] - 297s 783ms/step - loss: 2.5377 - accuracy: 0.2921 - val_loss: 2.3504 - val_accuracy: 0.3002\n",
      "Epoch 2/10\n",
      "375/375 [==============================] - 257s 686ms/step - loss: 1.6140 - accuracy: 0.5089 - val_loss: 1.7953 - val_accuracy: 0.4665\n",
      "Epoch 3/10\n",
      "375/375 [==============================] - 230s 613ms/step - loss: 1.2747 - accuracy: 0.6070 - val_loss: 1.3072 - val_accuracy: 0.5930\n",
      "Epoch 4/10\n",
      "375/375 [==============================] - 209s 557ms/step - loss: 1.0645 - accuracy: 0.6695 - val_loss: 1.0230 - val_accuracy: 0.6768\n",
      "Epoch 5/10\n",
      "375/375 [==============================] - 198s 527ms/step - loss: 0.9318 - accuracy: 0.7082 - val_loss: 0.6815 - val_accuracy: 0.7788\n",
      "Epoch 6/10\n",
      "375/375 [==============================] - 211s 563ms/step - loss: 0.8136 - accuracy: 0.7438 - val_loss: 1.0244 - val_accuracy: 0.6760\n",
      "Epoch 7/10\n",
      "375/375 [==============================] - 303s 809ms/step - loss: 0.7451 - accuracy: 0.7605 - val_loss: 0.5877 - val_accuracy: 0.8077\n",
      "Epoch 8/10\n",
      "375/375 [==============================] - 281s 750ms/step - loss: 0.6536 - accuracy: 0.7903 - val_loss: 0.9612 - val_accuracy: 0.7063\n",
      "Epoch 9/10\n",
      "375/375 [==============================] - 354s 946ms/step - loss: 0.6292 - accuracy: 0.8007 - val_loss: 0.4551 - val_accuracy: 0.8528\n",
      "Epoch 10/10\n",
      "375/375 [==============================] - 354s 945ms/step - loss: 0.5919 - accuracy: 0.8145 - val_loss: 0.3788 - val_accuracy: 0.8813\n"
     ]
    }
   ],
   "source": [
    "### Fitting data into our model\n",
    "\n",
    "fitted_model = model.fit(training_set, steps_per_epoch=375, epochs=10, validation_data = test_set, validation_steps = 125)"
   ]
  },
  {
   "cell_type": "code",
   "execution_count": 79,
   "id": "f764cc8e",
   "metadata": {},
   "outputs": [
    {
     "data": {
      "text/plain": [
       "<keras.src.callbacks.History at 0x20f20b51410>"
      ]
     },
     "execution_count": 79,
     "metadata": {},
     "output_type": "execute_result"
    }
   ],
   "source": [
    "fitted_model"
   ]
  },
  {
   "cell_type": "markdown",
   "id": "a2936478",
   "metadata": {},
   "source": [
    "### Convert the model into Pickle file"
   ]
  },
  {
   "cell_type": "code",
   "execution_count": 67,
   "id": "dd42c822",
   "metadata": {},
   "outputs": [],
   "source": [
    "# pickle.dump(model, open('Leaf_disease_detection.pkl', 'wb'))"
   ]
  },
  {
   "cell_type": "markdown",
   "id": "9a1c2a90",
   "metadata": {},
   "source": [
    "### Load the pickle file"
   ]
  },
  {
   "cell_type": "code",
   "execution_count": 72,
   "id": "a4497c86",
   "metadata": {},
   "outputs": [],
   "source": [
    "ldd_model = pickle.load(open('Leaf_disease_detection.pkl', 'rb'))"
   ]
  },
  {
   "cell_type": "code",
   "execution_count": 73,
   "id": "42c14a5e",
   "metadata": {},
   "outputs": [
    {
     "data": {
      "text/plain": [
       "<keras.src.engine.sequential.Sequential at 0x20f26c5a410>"
      ]
     },
     "execution_count": 73,
     "metadata": {},
     "output_type": "execute_result"
    }
   ],
   "source": [
    "ldd_model"
   ]
  },
  {
   "cell_type": "code",
   "execution_count": 74,
   "id": "c00a61c5",
   "metadata": {
    "scrolled": true
   },
   "outputs": [
    {
     "name": "stdout",
     "output_type": "stream",
     "text": [
      "Model: \"sequential_1\"\n",
      "_________________________________________________________________\n",
      " Layer (type)                Output Shape              Param #   \n",
      "=================================================================\n",
      " conv2d (Conv2D)             (None, 126, 126, 32)      896       \n",
      "                                                                 \n",
      " max_pooling2d (MaxPooling2  (None, 63, 63, 32)        0         \n",
      " D)                                                              \n",
      "                                                                 \n",
      " batch_normalization (Batch  (None, 63, 63, 32)        128       \n",
      " Normalization)                                                  \n",
      "                                                                 \n",
      " conv2d_1 (Conv2D)           (None, 61, 61, 64)        18496     \n",
      "                                                                 \n",
      " max_pooling2d_1 (MaxPoolin  (None, 30, 30, 64)        0         \n",
      " g2D)                                                            \n",
      "                                                                 \n",
      " batch_normalization_1 (Bat  (None, 30, 30, 64)        256       \n",
      " chNormalization)                                                \n",
      "                                                                 \n",
      " conv2d_2 (Conv2D)           (None, 28, 28, 64)        36928     \n",
      "                                                                 \n",
      " max_pooling2d_2 (MaxPoolin  (None, 14, 14, 64)        0         \n",
      " g2D)                                                            \n",
      "                                                                 \n",
      " batch_normalization_2 (Bat  (None, 14, 14, 64)        256       \n",
      " chNormalization)                                                \n",
      "                                                                 \n",
      " conv2d_3 (Conv2D)           (None, 12, 12, 96)        55392     \n",
      "                                                                 \n",
      " max_pooling2d_3 (MaxPoolin  (None, 6, 6, 96)          0         \n",
      " g2D)                                                            \n",
      "                                                                 \n",
      " batch_normalization_3 (Bat  (None, 6, 6, 96)          384       \n",
      " chNormalization)                                                \n",
      "                                                                 \n",
      " conv2d_4 (Conv2D)           (None, 4, 4, 32)          27680     \n",
      "                                                                 \n",
      " max_pooling2d_4 (MaxPoolin  (None, 2, 2, 32)          0         \n",
      " g2D)                                                            \n",
      "                                                                 \n",
      " batch_normalization_4 (Bat  (None, 2, 2, 32)          128       \n",
      " chNormalization)                                                \n",
      "                                                                 \n",
      " dropout (Dropout)           (None, 2, 2, 32)          0         \n",
      "                                                                 \n",
      " flatten (Flatten)           (None, 128)               0         \n",
      "                                                                 \n",
      " dense (Dense)               (None, 128)               16512     \n",
      "                                                                 \n",
      " dropout_1 (Dropout)         (None, 128)               0         \n",
      "                                                                 \n",
      " dense_1 (Dense)             (None, 38)                4902      \n",
      "                                                                 \n",
      "=================================================================\n",
      "Total params: 161958 (632.65 KB)\n",
      "Trainable params: 161382 (630.40 KB)\n",
      "Non-trainable params: 576 (2.25 KB)\n",
      "_________________________________________________________________\n"
     ]
    }
   ],
   "source": [
    "ldd_model.summary()"
   ]
  },
  {
   "cell_type": "code",
   "execution_count": 19,
   "id": "0f8ef505",
   "metadata": {},
   "outputs": [],
   "source": [
    "labels = (training_set.class_indices)\n",
    "labels2 = (test_set.class_indices)"
   ]
  },
  {
   "cell_type": "code",
   "execution_count": null,
   "id": "95795ed7",
   "metadata": {},
   "outputs": [],
   "source": [
    "def tr_plot(tr_data, start_epoch):\n",
    "    #Plot the training and validation data\n",
    "    tacc = tr_data.history['accuracy']\n",
    "    tloss = tr_data.history['loss']\n",
    "    vacc = tr_data.history['val_accuracy']\n",
    "    vloss = tr_data.history['val_loss']\n",
    "    Epoch_count = len(tacc)+ start_epoch\n",
    "    \n",
    "    Epochs = []\n",
    "    \n",
    "    for i in range (start_epoch ,Epoch_count):\n",
    "        Epochs.append(i+1)   \n",
    "    \n",
    "    index_loss = np.argmin(vloss)#  this is the epoch with the lowest validation loss\n",
    "    val_lowest = vloss[index_loss]\n",
    "    \n",
    "    index_acc = np.argmax(vacc)\n",
    "    acc_highest = vacc[index_acc]\n",
    "    \n",
    "    #plt.style.use('fivethirtyeight')\n",
    "    sc_label = 'best epoch= '+ str(index_loss+1 +start_epoch)\n",
    "    vc_label = 'best epoch= '+ str(index_acc + 1+ start_epoch)\n",
    "    fig,axes = plt.subplots(nrows=1, ncols= 3, figsize=(10,6))\n",
    "    \n",
    "    axes[0].plot(Epochs, tloss, 'r', label = 'Training loss')\n",
    "    axes[0].plot(Epochs, vloss,'b',label = 'Validation loss' )\n",
    "    axes[0].scatter(index_loss + 1 + start_epoch, val_lowest, s= 150, c = 'black', label = sc_label)\n",
    "    axes[0].set_title('Training and Validation Loss')\n",
    "    axes[0].set_xlabel('Epochs')\n",
    "    axes[0].set_ylabel('Loss')\n",
    "    axes[0].legend()\n",
    "\n",
    "    axes[1].plot(Epochs, tacc,'r',label= 'Training Accuracy')\n",
    "    axes[1].plot(Epochs, vacc,'b',label= 'Validation Accuracy')\n",
    "    axes[1].scatter(index_acc + 1 + start_epoch, acc_highest, s= 150, c = 'black', label = vc_label)\n",
    "    axes[1].set_title('Training and Validation Accuracy')\n",
    "    axes[1].set_xlabel('Epochs')\n",
    "    axes[1].set_ylabel('Accuracy')\n",
    "    axes[1].legend()\n",
    "    \n",
    "    plt.tight_layout    \n",
    "    plt.show()\n"
   ]
  },
  {
   "cell_type": "code",
   "execution_count": null,
   "id": "cf62deca",
   "metadata": {
    "scrolled": false
   },
   "outputs": [],
   "source": [
    "tr_plot(fitted_model, 0)"
   ]
  },
  {
   "cell_type": "code",
   "execution_count": 200,
   "id": "85c62c2b",
   "metadata": {},
   "outputs": [
    {
     "name": "stdout",
     "output_type": "stream",
     "text": [
      "125/125 [==============================] - 58s 458ms/step - loss: 14.3181 - accuracy: 0.0295\n",
      "Test loss: 14.31811809539795\n",
      "Test accuracy: 0.029500000178813934\n"
     ]
    }
   ],
   "source": [
    "# Evaluate the model on the test set\n",
    "loss, accuracy = model.evaluate(test_set, steps=125)\n",
    "print(f'Test loss: {loss}')\n",
    "print(f'Test accuracy: {accuracy}')"
   ]
  },
  {
   "cell_type": "code",
   "execution_count": null,
   "id": "a21caae4",
   "metadata": {},
   "outputs": [],
   "source": []
  },
  {
   "cell_type": "code",
   "execution_count": 229,
   "id": "9ebed0c9",
   "metadata": {},
   "outputs": [],
   "source": [
    "# Adjust the learning rate\n",
    "initial_learning_rate = 1e-4\n",
    "optimizer = Adam(learning_rate=initial_learning_rate)\n",
    "\n",
    "model.compile(optimizer=optimizer, loss='categorical_crossentropy', metrics=['accuracy'])"
   ]
  },
  {
   "cell_type": "code",
   "execution_count": 231,
   "id": "5d1bfea3",
   "metadata": {
    "scrolled": true
   },
   "outputs": [
    {
     "name": "stdout",
     "output_type": "stream",
     "text": [
      "Found 70295 images belonging to 38 classes.\n",
      "Found 17572 images belonging to 38 classes.\n"
     ]
    }
   ],
   "source": [
    "train_datagen = ImageDataGenerator(rescale=1./255, shear_range=0.2, zoom_range=0.2, horizontal_flip=True, rotation_range=20, width_shift_range=0.2, height_shift_range=0.2)\n",
    "\n",
    "test_datagen = ImageDataGenerator(rescale=1./255)\n",
    "\n",
    "training_set = train_datagen.flow_from_directory(train_dir, target_size=(128, 128), batch_size=32, class_mode='categorical')\n",
    "\n",
    "test_set = test_datagen.flow_from_directory(test_dir, target_size=(128, 128), batch_size=32, class_mode='categorical')"
   ]
  },
  {
   "cell_type": "code",
   "execution_count": 232,
   "id": "e668682b",
   "metadata": {},
   "outputs": [],
   "source": [
    "early_stopping = EarlyStopping(monitor='val_loss', patience=10, restore_best_weights=True)\n",
    "model_checkpoint = ModelCheckpoint('best_model.h5', monitor='val_loss', save_best_only=True)\n",
    "\n",
    "callbacks = [early_stopping, model_checkpoint]"
   ]
  },
  {
   "cell_type": "code",
   "execution_count": 234,
   "id": "15311a31",
   "metadata": {
    "scrolled": true
   },
   "outputs": [
    {
     "name": "stdout",
     "output_type": "stream",
     "text": [
      "Epoch 1/5\n",
      "2197/2197 [==============================] - 1497s 681ms/step - loss: 2.5806 - accuracy: 0.2925 - val_loss: 1.9976 - val_accuracy: 0.4231\n",
      "Epoch 2/5\n",
      "2197/2197 [==============================] - 753s 343ms/step - loss: 1.5652 - accuracy: 0.5319 - val_loss: 1.4916 - val_accuracy: 0.5727\n",
      "Epoch 3/5\n",
      "2197/2197 [==============================] - 3128s 1s/step - loss: 1.1562 - accuracy: 0.6481 - val_loss: 1.2771 - val_accuracy: 0.6333\n",
      "Epoch 4/5\n",
      "2197/2197 [==============================] - 767s 349ms/step - loss: 0.9308 - accuracy: 0.7112 - val_loss: 1.1413 - val_accuracy: 0.6854\n",
      "Epoch 5/5\n",
      "2197/2197 [==============================] - 821s 374ms/step - loss: 0.7878 - accuracy: 0.7537 - val_loss: 1.2587 - val_accuracy: 0.6769\n"
     ]
    }
   ],
   "source": [
    "fitted_model1 = model.fit(training_set, steps_per_epoch=len(training_set), epochs=5, validation_data=test_set, validation_steps=len(test_set), callbacks=callbacks)"
   ]
  },
  {
   "cell_type": "code",
   "execution_count": null,
   "id": "b9e81f19",
   "metadata": {
    "scrolled": true
   },
   "outputs": [],
   "source": [
    "tr_plot(fitted_model1, 0)"
   ]
  },
  {
   "cell_type": "code",
   "execution_count": 236,
   "id": "30895cf5",
   "metadata": {},
   "outputs": [],
   "source": [
    "# pickle.dump(model, open('Leaf_disease_detection_1.pkl', 'wb'))"
   ]
  },
  {
   "cell_type": "code",
   "execution_count": 238,
   "id": "0661c439",
   "metadata": {},
   "outputs": [],
   "source": [
    "ldd_model1 = pickle.load(open('Leaf_disease_detection_1.pkl', 'rb'))"
   ]
  },
  {
   "cell_type": "code",
   "execution_count": null,
   "id": "ca992512",
   "metadata": {
    "scrolled": true
   },
   "outputs": [
    {
     "name": "stdout",
     "output_type": "stream",
     "text": [
      "543/550 [============================>.] - ETA: 7s - loss: 3.8080 - accuracy: 0.0334"
     ]
    }
   ],
   "source": [
    "# Evaluate the model on the test set\n",
    "loss, accuracy = model.evaluate(test_set)\n",
    "print(f'Test loss: {loss}')\n",
    "print(f'Test accuracy: {accuracy}')"
   ]
  },
  {
   "cell_type": "code",
   "execution_count": 168,
   "id": "dfa2d990",
   "metadata": {},
   "outputs": [],
   "source": [
    "label = os.listdir(train_dir1) # your directory path"
   ]
  },
  {
   "cell_type": "code",
   "execution_count": 169,
   "id": "b9f79547",
   "metadata": {},
   "outputs": [
    {
     "data": {
      "text/plain": [
       "38"
      ]
     },
     "execution_count": 169,
     "metadata": {},
     "output_type": "execute_result"
    }
   ],
   "source": [
    "len(label)"
   ]
  },
  {
   "cell_type": "markdown",
   "id": "5f32c1db",
   "metadata": {},
   "source": [
    "## Predicting Output"
   ]
  },
  {
   "cell_type": "code",
   "execution_count": 170,
   "id": "ac0e5e61",
   "metadata": {},
   "outputs": [],
   "source": [
    "#path=input(\"Enter your image path-: \")\n",
    "def testing(path, ldd_model):\n",
    "    \n",
    "    test_image = image.load_img(path, target_size=(128,128))\n",
    "    \n",
    "    test_image = image.img_to_array(test_image)\n",
    "    \n",
    "    test_image = np.expand_dims(test_image, axis=0)\n",
    "    \n",
    "    result = ldd_model.predict(test_image)\n",
    "\n",
    "    #print(f\"Result is --> {result}\")\n",
    "    fresult = np.max(result)\n",
    "    label2 = label[result.argmax()]\n",
    "    \n",
    "    print(f\"your leaf disease is --> {label2}\")"
   ]
  },
  {
   "cell_type": "code",
   "execution_count": 171,
   "id": "ba998102",
   "metadata": {},
   "outputs": [
    {
     "name": "stdout",
     "output_type": "stream",
     "text": [
      "1/1 [==============================] - 0s 30ms/step\n",
      "your leaf disease is --> Corn_(maize)___Common_rust_\n"
     ]
    }
   ],
   "source": [
    "img_path=r'C:\\Users\\johan\\OneDrive\\Desktop\\DS Python\\Tasks\\NeubAltics\\images_for_test\\CornCommonRust1.JPG'\n",
    "\n",
    "testing(img_path, ldd_model)"
   ]
  },
  {
   "cell_type": "code",
   "execution_count": 172,
   "id": "67151549",
   "metadata": {},
   "outputs": [
    {
     "data": {
      "image/png": "[encoded data removed]",
      "text/plain": [
       "<PIL.Image.Image image mode=RGB size=128x128>"
      ]
     },
     "execution_count": 172,
     "metadata": {},
     "output_type": "execute_result"
    }
   ],
   "source": [
    "## Sample Image\n",
    "\n",
    "image.load_img(path, target_size=(128, 128))"
   ]
  },
  {
   "cell_type": "code",
   "execution_count": null,
   "id": "7948bb43",
   "metadata": {},
   "outputs": [],
   "source": []
  },
  {
   "cell_type": "code",
   "execution_count": null,
   "id": "b7cc9b12",
   "metadata": {},
   "outputs": [],
   "source": []
  },
  {
   "cell_type": "code",
   "execution_count": null,
   "id": "18757dfc",
   "metadata": {},
   "outputs": [],
   "source": []
  },
  {
   "cell_type": "code",
   "execution_count": null,
   "id": "f0d3a6c5",
   "metadata": {},
   "outputs": [],
   "source": []
  },
  {
   "cell_type": "code",
   "execution_count": null,
   "id": "4f16e1ca",
   "metadata": {},
   "outputs": [],
   "source": []
  }
 ],
 "metadata": {
  "kernelspec": {
   "display_name": "Python 3 (ipykernel)",
   "language": "python",
   "name": "python3"
  },
  "language_info": {
   "codemirror_mode": {
    "name": "ipython",
    "version": 3
   },
   "file_extension": ".py",
   "mimetype": "text/x-python",
   "name": "python",
   "nbconvert_exporter": "python",
   "pygments_lexer": "ipython3",
   "version": "3.11.7"
  }
 },
 "nbformat": 4,
 "nbformat_minor": 5
}
